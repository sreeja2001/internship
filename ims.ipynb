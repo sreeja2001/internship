{
  "nbformat": 4,
  "nbformat_minor": 0,
  "metadata": {
    "colab": {
      "name": "ims.ipynb",
      "provenance": [],
      "collapsed_sections": []
    },
    "kernelspec": {
      "name": "python3",
      "display_name": "Python 3"
    },
    "language_info": {
      "name": "python"
    }
  },
  "cells": [
    {
      "cell_type": "code",
      "metadata": {
        "id": "e3-FvPeFZlcN"
      },
      "source": [
        "products = {\"1\": {\"name\": \"apple\", \"price\": 30, \"quantity\": 100, \"category\": \"fruites\", \"discount\":0},\n",
        "            \"2\": {\"name\": \"banana\", \"price\": 20, \"quantity\": 200, \"category\": \"fruites\", \"discount\": 0}, \n",
        "            \"3\": {\"name\": \"berry\", \"price\": 50, \"quantity\": 150, \"category\": \"fruites\", \"discount\": 10}, \n",
        "            \"4\": {\"name\": \"grapes\", \"price\": 15, \"quantity\": 500, \"category\": \"fruites\", \"discount\": 3}, \n",
        "            \"5\": {\"name\": \"rose\", \"price\": 60, \"quantity\": 25, \"category\": \"flowers\", \"discount\": 8},\n",
        "            \"6\": {\"name\": \"TAPE\", \"price\": 299.0, \"quantity\": 25, \"category\": \"eatables\", \"discount\": 23}, \n",
        "            \"7\": {\"name\": \"book\", \"price\": 20, \"quantity\": 25, \"category\": \"stationary\", \"discount\": 5}, \n",
        "            \"8\": {\"name\": \"pencil\", \"price\": 10, \"quantity\": 25, \"category\": \"stationary\", \"discount\": 0}, \n",
        "            \"9\": {\"name\": \"bingo\", \"price\": 69.0, \"quantity\": 25, \"category\": \"Drinks\", \"discount\": 11},\n",
        "            \"10\": {\"name\": \"5 star\", \"price\": 49.0, \"quantity\": 25, \"category\": \"eatables\", \"discount\": 15},\n",
        "            \"11\": {\"name\": \"hersheys\", \"price\": 149.0, \"quantity\": 25, \"category\": \"eatables\", \"discount\": 45},\n",
        "            \"12\": {\"name\": \"oil\", \"price\": 79.0, \"quantity\": 25, \"category\": \"eatables\", \"discount\": 0},\n",
        "            \"13\": {\"name\": \"milk\", \"price\": 45, \"quantity\": 40, \"category\": \"Drinks\", \"discount\": 34},\n",
        "            \"14\": {\"name\": \"clips\", \"price\": 5, \"quantity\": 250, \"category\": \"hair_accesary\", \"discount\": 12}, \n",
        "            \"15\": {\"name\": \"comb\", \"price\": 29.0, \"quantity\": 25, \"category\": \"cosmetic\", \"discount\": 76}, \n",
        "            \"16\": {\"name\": \"eraser\", \"price\": 25, \"quantity\": 125, \"category\": \"stationary\", \"discount\": 10}, \n",
        "            \"17\": {\"name\": \"masala puri\", \"price\": 10.0, \"quantity\": 25, \"category\": \"eatables\", \"discount\": 7}, \n",
        "            \"18\": {\"name\": \"candy\", \"price\": 50.0, \"quantity\": 25, \"category\": \"eatables\", \"discount\": 56}, \n",
        "            \"19\": {\"name\": \"sauce\", \"price\": 100.0, \"quantity\": 25, \"category\": \"eatables\", \"discount\": 34}, \n",
        "            \"20\": {\"name\": \"soyabean\", \"price\": 150.0, \"quantity\": 25, \"category\": \"eatables\", \"discount\": 21},\n",
        "            \"21\": {\"name\": \"bedsheet\", \"price\": 200, \"quantity\": 25, \"category\": \"decor\", \"discount\": 17},\n",
        "            \"22\": {\"name\": \"sofa\", \"price\": 2500, \"quantity\": 25, \"category\": \"decor\", \"discount\": 14},\n",
        "            \"23\": {\"name\": \"cake\", \"price\": 80.0, \"quantity\": 25, \"category\": \"decor\", \"discount\": 0}, \n",
        "            \"24\": {\"name\": \"almond\", \"price\": 75.0, \"quantity\": 25, \"category\": \"decor\", \"discount\": 5 },\n",
        "            \"25\": {\"name\": \"glass\", \"price\": 45.0, \"quantity\": 25, \"category\": \"decor\", \"discount\": 6}, \n",
        "            \"26\": {\"name\": \"alcohol\", \"price\": 105.0, \"quantity\": 25, \"category\": \"Drinks\", \"discount\": 80}, \n",
        "            \"27\": {\"name\": \"hairpin\", \"price\": 155.0, \"quantity\": 25, \"category\": \"cosmetic\", \"discount\": 43}, \n",
        "            \"28\": {\"name\": \"facewash\", \"price\": 245.0, \"quantity\": 25, \"category\": \"cosmetic\", \"discount\": 57}, \n",
        "            \"29\": {\"name\": \"toys\", \"price\": 225.0, \"quantity\": 25, \"category\": \"decor\", \"discount\": 90},\n",
        "            \"30\": {\"name\": \"book\", \"price\": 285.0, \"quantity\": 50, \"category\": \"education\", \"discount\": 1}}"
      ],
      "execution_count": 8,
      "outputs": []
    },
    {
      "cell_type": "code",
      "metadata": {
        "colab": {
          "base_uri": "https://localhost:8080/",
          "height": 35
        },
        "id": "0uJ-789Pb7A3",
        "outputId": "d4a566b4-447f-4797-c79b-f065dc3787e0"
      },
      "source": [
        "products[\"1\"][\"name\"]"
      ],
      "execution_count": 9,
      "outputs": [
        {
          "output_type": "execute_result",
          "data": {
            "application/vnd.google.colaboratory.intrinsic+json": {
              "type": "string"
            },
            "text/plain": [
              "'apple'"
            ]
          },
          "metadata": {},
          "execution_count": 9
        }
      ]
    },
    {
      "cell_type": "code",
      "metadata": {
        "id": "OCOPXJUCb8rG"
      },
      "source": [
        "import json"
      ],
      "execution_count": 10,
      "outputs": []
    },
    {
      "cell_type": "code",
      "metadata": {
        "id": "w7KCVgYscRJT"
      },
      "source": [
        "file = open(\"prod.txt\",'r')\n",
        "\n",
        "txt = file.read()\n",
        "\n",
        "file.close()"
      ],
      "execution_count": 13,
      "outputs": []
    },
    {
      "cell_type": "code",
      "metadata": {
        "id": "cOoTh9gRdTv4"
      },
      "source": [
        "products=json.loads(txt)"
      ],
      "execution_count": 14,
      "outputs": []
    },
    {
      "cell_type": "code",
      "metadata": {
        "colab": {
          "base_uri": "https://localhost:8080/"
        },
        "id": "TLCrNIl2dcqe",
        "outputId": "a24bc9c7-cee2-47c1-88bf-2abad389a3c8"
      },
      "source": [
        "products"
      ],
      "execution_count": 15,
      "outputs": [
        {
          "output_type": "execute_result",
          "data": {
            "text/plain": [
              "{'1': {'category': 'fruites',\n",
              "  'discount': 0,\n",
              "  'name': 'apple',\n",
              "  'price': 30,\n",
              "  'quantity': 100},\n",
              " '10': {'category': 'eatables',\n",
              "  'discount': 15,\n",
              "  'name': '5 star',\n",
              "  'price': 49.0,\n",
              "  'quantity': 25},\n",
              " '11': {'category': 'eatables',\n",
              "  'discount': 45,\n",
              "  'name': 'hersheys',\n",
              "  'price': 149.0,\n",
              "  'quantity': 25},\n",
              " '12': {'category': 'eatables',\n",
              "  'discount': 0,\n",
              "  'name': 'oil',\n",
              "  'price': 79.0,\n",
              "  'quantity': 25},\n",
              " '13': {'category': 'Drinks',\n",
              "  'discount': 34,\n",
              "  'name': 'milk',\n",
              "  'price': 45,\n",
              "  'quantity': 40},\n",
              " '14': {'category': 'hair_accesary',\n",
              "  'discount': 12,\n",
              "  'name': 'clips',\n",
              "  'price': 5,\n",
              "  'quantity': 250},\n",
              " '15': {'category': 'cosmetic',\n",
              "  'discount': 76,\n",
              "  'name': 'comb',\n",
              "  'price': 29.0,\n",
              "  'quantity': 25},\n",
              " '16': {'category': 'stationary',\n",
              "  'discount': 10,\n",
              "  'name': 'eraser',\n",
              "  'price': 25,\n",
              "  'quantity': 125},\n",
              " '17': {'category': 'eatables',\n",
              "  'discount': 7,\n",
              "  'name': 'masala puri',\n",
              "  'price': 10.0,\n",
              "  'quantity': 25},\n",
              " '18': {'category': 'eatables',\n",
              "  'discount': 56,\n",
              "  'name': 'candy',\n",
              "  'price': 50.0,\n",
              "  'quantity': 25},\n",
              " '19': {'category': 'eatables',\n",
              "  'discount': 34,\n",
              "  'name': 'sauce',\n",
              "  'price': 100.0,\n",
              "  'quantity': 25},\n",
              " '2': {'category': 'fruites',\n",
              "  'discount': 0,\n",
              "  'name': 'banana',\n",
              "  'price': 20,\n",
              "  'quantity': 200},\n",
              " '20': {'category': 'eatables',\n",
              "  'discount': 21,\n",
              "  'name': 'soyabean',\n",
              "  'price': 150.0,\n",
              "  'quantity': 25},\n",
              " '21': {'category': 'decor',\n",
              "  'discount': 17,\n",
              "  'name': 'bedsheet',\n",
              "  'price': 200,\n",
              "  'quantity': 25},\n",
              " '22': {'category': 'decor',\n",
              "  'discount': 14,\n",
              "  'name': 'sofa',\n",
              "  'price': 2500,\n",
              "  'quantity': 25},\n",
              " '23': {'category': 'decor',\n",
              "  'discount': 0,\n",
              "  'name': 'cake',\n",
              "  'price': 80.0,\n",
              "  'quantity': 25},\n",
              " '24': {'category': 'decor',\n",
              "  'discount': 5,\n",
              "  'name': 'almond',\n",
              "  'price': 75.0,\n",
              "  'quantity': 25},\n",
              " '25': {'category': 'decor',\n",
              "  'discount': 6,\n",
              "  'name': 'glass',\n",
              "  'price': 45.0,\n",
              "  'quantity': 25},\n",
              " '26': {'category': 'Drinks',\n",
              "  'discount': 80,\n",
              "  'name': 'alcohol',\n",
              "  'price': 105.0,\n",
              "  'quantity': 25},\n",
              " '27': {'category': 'cosmetic',\n",
              "  'discount': 43,\n",
              "  'name': 'hairpin',\n",
              "  'price': 155.0,\n",
              "  'quantity': 25},\n",
              " '28': {'category': 'cosmetic',\n",
              "  'discount': 57,\n",
              "  'name': 'facewash',\n",
              "  'price': 245.0,\n",
              "  'quantity': 25},\n",
              " '29': {'category': 'decor',\n",
              "  'discount': 90,\n",
              "  'name': 'toys',\n",
              "  'price': 225.0,\n",
              "  'quantity': 25},\n",
              " '3': {'category': 'fruites',\n",
              "  'discount': 10,\n",
              "  'name': 'berry',\n",
              "  'price': 50,\n",
              "  'quantity': 150},\n",
              " '30': {'category': 'education',\n",
              "  'discount': 1,\n",
              "  'name': 'book',\n",
              "  'price': 285.0,\n",
              "  'quantity': 50},\n",
              " '4': {'category': 'fruites',\n",
              "  'discount': 3,\n",
              "  'name': 'grapes',\n",
              "  'price': 15,\n",
              "  'quantity': 500},\n",
              " '5': {'category': 'flowers',\n",
              "  'discount': 8,\n",
              "  'name': 'rose',\n",
              "  'price': 60,\n",
              "  'quantity': 25},\n",
              " '6': {'category': 'eatables',\n",
              "  'discount': 23,\n",
              "  'name': 'TAPE',\n",
              "  'price': 299.0,\n",
              "  'quantity': 25},\n",
              " '7': {'category': 'stationary',\n",
              "  'discount': 5,\n",
              "  'name': 'book',\n",
              "  'price': 20,\n",
              "  'quantity': 25},\n",
              " '8': {'category': 'stationary',\n",
              "  'discount': 0,\n",
              "  'name': 'pencil',\n",
              "  'price': 10,\n",
              "  'quantity': 25},\n",
              " '9': {'category': 'Drinks',\n",
              "  'discount': 11,\n",
              "  'name': 'bingo',\n",
              "  'price': 69.0,\n",
              "  'quantity': 25}}"
            ]
          },
          "metadata": {},
          "execution_count": 15
        }
      ]
    },
    {
      "cell_type": "code",
      "metadata": {
        "colab": {
          "base_uri": "https://localhost:8080/"
        },
        "id": "OFcKbAVmdfVX",
        "outputId": "1eb377ba-3489-4b67-ffe7-1bfacb0439c5"
      },
      "source": [
        "cart=int(input(\"enter your choice\"))\n",
        "if cart == 1:\n",
        "  print('----------------------------------')\n",
        "  print(\"items available in the mall\")\n",
        "  \n",
        "  print('----------------------------------')\n",
        "  \n",
        "  print('Please enter the items and quantity for purchase:')\n",
        "  purchase={}\n",
        "  for i in range (0,5):\n",
        "    n=input()\n",
        "    m=n.split(' ')\n",
        "    purchase[m[0]] = int(m[1])\n",
        "\n",
        "\n",
        "\n",
        "if cart == 2:\n",
        "  print(\"Buy the items of your choice\")\n",
        "\n",
        "  amt=0\n",
        "  for i in purchase:    \n",
        "    if(i in products.keys()):\n",
        "        print('your wishlist {} {}'.format(purchase[i],products[i]['name']))\n",
        "        print('Cost {} '.format(purchase[i]*products[i]['price']))\n",
        "        amt+=purchase[i]*products[i]['price']\n",
        "  print('Total bill : ',amt)\n",
        "\n",
        "  total={}\n",
        "  s=1\n",
        "  for i in purchase:\n",
        "    if(i in products.keys()):\n",
        "        x={}\n",
        "        x['item'] = products[i]['name']\n",
        "        x['quantity'] = purchase[i]\n",
        "        x['price'] = products[i]['price']\n",
        "        x['SP'] = products[i]['price']*(1.0 - products[i]['discount']/100.0)\n",
        "        x['total'] = x['SP']*purchase[i]\n",
        "        total[s] = x"
      ],
      "execution_count": 19,
      "outputs": [
        {
          "name": "stdout",
          "output_type": "stream",
          "text": [
            "enter your choice1\n",
            "----------------------------------\n",
            "items available in the mall\n",
            "----------------------------------\n",
            "Please enter the items and quantity for purchase:\n",
            "1 2\n",
            "2 3\n",
            "3 4\n",
            "4 1\n",
            "5 5\n"
          ]
        }
      ]
    },
    {
      "cell_type": "code",
      "metadata": {
        "colab": {
          "base_uri": "https://localhost:8080/"
        },
        "id": "aMSNXm4CfCHZ",
        "outputId": "3a678a90-628b-4643-99a4-7b9c8b6b61be"
      },
      "source": [
        "amt=0\n",
        "for i in purchase:    \n",
        "  if(i in products.keys()):\n",
        "    print('your orders {} {}'.format(purchase[i],products[i]['name']))\n",
        "    print('Cost {} '.format(purchase[i]*products[i]['price']))\n",
        "    amt+=purchase[i]*products[i]['price']\n",
        "print('Total bill : ',amt)"
      ],
      "execution_count": 20,
      "outputs": [
        {
          "output_type": "stream",
          "name": "stdout",
          "text": [
            "your orders 2 apple\n",
            "Cost 60 \n",
            "your orders 3 banana\n",
            "Cost 60 \n",
            "your orders 4 berry\n",
            "Cost 200 \n",
            "your orders 1 grapes\n",
            "Cost 15 \n",
            "your orders 5 rose\n",
            "Cost 300 \n",
            "Total bill :  635\n"
          ]
        }
      ]
    },
    {
      "cell_type": "code",
      "metadata": {
        "id": "jOKzg7n0fpBn",
        "colab": {
          "base_uri": "https://localhost:8080/"
        },
        "outputId": "60d52054-b737-4e0f-c18a-feee74a9876a"
      },
      "source": [
        "cart = int(input(\"Enter your choice :\"))\n",
        "if cart == 1:\n",
        "  print('----------------------------------')\n",
        "  print(\"items available in mall\")\n",
        "  \n",
        "  print('----------------------------------')\n",
        "  \n",
        "  print('Please enter the items and quantity for purchase:')\n",
        "  purchase={}\n",
        "  for i in range (0,5):\n",
        "    n=input()\n",
        "    m=n.split(' ')\n",
        "    purchase[m[0]] = int(m[1])\n",
        "\n",
        "\n",
        "\n",
        "if cart == 2:\n",
        "  print(\"Buy the items of your choice\")\n",
        "\n",
        "  amt=0\n",
        "  for i in purchase:    \n",
        "    if(i in products.keys()):\n",
        "        print('you ordered {} {}'.format(purchase[i],products[i]['name']))\n",
        "        print('Cost {} '.format(purchase[i]*products[i]['price']))\n",
        "        amt+=purchase[i]*products[i]['price']\n",
        "  print('Total bill : ',amt)\n",
        "\n",
        "  total={}\n",
        "  s=1\n",
        "  for i in purchase:\n",
        "    if(i in products.keys()):\n",
        "        x={}\n",
        "        x['item'] = products[i]['name']\n",
        "        x['quantity'] = purchase[i]\n",
        "        x['price'] = products[i]['price']\n",
        "        x['SP'] = products[i]['price']*(1.0 - products[i]['discount']/100.0)\n",
        "        x['total'] = x['SP']*purchase[i]\n",
        "        total[s] = x\n",
        "        s+=1\n",
        "  print(total)\n",
        "if cart == 3 :\n",
        "  print(\"Exit\")"
      ],
      "execution_count": 21,
      "outputs": [
        {
          "output_type": "stream",
          "name": "stdout",
          "text": [
            "Enter your choice :2\n",
            "Buy the items of your choice\n",
            "you ordered 2 apple\n",
            "Cost 60 \n",
            "you ordered 3 banana\n",
            "Cost 60 \n",
            "you ordered 4 berry\n",
            "Cost 200 \n",
            "you ordered 1 grapes\n",
            "Cost 15 \n",
            "you ordered 5 rose\n",
            "Cost 300 \n",
            "Total bill :  635\n",
            "{1: {'item': 'apple', 'quantity': 2, 'price': 30, 'SP': 30.0, 'total': 60.0}, 2: {'item': 'banana', 'quantity': 3, 'price': 20, 'SP': 20.0, 'total': 60.0}, 3: {'item': 'berry', 'quantity': 4, 'price': 50, 'SP': 45.0, 'total': 180.0}, 4: {'item': 'grapes', 'quantity': 1, 'price': 15, 'SP': 14.549999999999999, 'total': 14.549999999999999}, 5: {'item': 'rose', 'quantity': 5, 'price': 60, 'SP': 55.2, 'total': 276.0}}\n"
          ]
        }
      ]
    },
    {
      "cell_type": "code",
      "metadata": {
        "id": "njL4J15Dx6B6"
      },
      "source": [
        "\n",
        "js = json.dumps(total)\n",
        "\n",
        "file = open(\"sales.json\",'w')\n",
        "\n",
        "file.write(js)\n",
        "\n",
        "file.close()"
      ],
      "execution_count": 23,
      "outputs": []
    },
    {
      "cell_type": "code",
      "metadata": {
        "id": "fc6mPTW6k6CX"
      },
      "source": [
        "file= open(\"sales.json\", 'r')\n",
        "txt = file.read()\n",
        "file.close()"
      ],
      "execution_count": 24,
      "outputs": []
    },
    {
      "cell_type": "code",
      "metadata": {
        "id": "SQzl2ZuQk-Fj"
      },
      "source": [
        "js = json.dumps(total)\n",
        "\n",
        "file = open(\"sales.txt\",'w')\n",
        "\n",
        "file.write(js)\n",
        "\n",
        "file.close()"
      ],
      "execution_count": 25,
      "outputs": []
    },
    {
      "cell_type": "code",
      "metadata": {
        "id": "PMU9MP4YlD5_"
      },
      "source": [
        "file = open(\"sales.txt\", 'r')\n",
        "txt = file.read()\n",
        "file.close()"
      ],
      "execution_count": 27,
      "outputs": []
    },
    {
      "cell_type": "code",
      "metadata": {
        "colab": {
          "base_uri": "https://localhost:8080/",
          "height": 86
        },
        "id": "Ap71h824lRzk",
        "outputId": "340372ed-2da4-4c9f-c14a-51e3b0a9e3e9"
      },
      "source": [
        "txt"
      ],
      "execution_count": 28,
      "outputs": [
        {
          "output_type": "execute_result",
          "data": {
            "application/vnd.google.colaboratory.intrinsic+json": {
              "type": "string"
            },
            "text/plain": [
              "'{\"1\": {\"item\": \"apple\", \"quantity\": 2, \"price\": 30, \"SP\": 30.0, \"total\": 60.0}, \"2\": {\"item\": \"banana\", \"quantity\": 3, \"price\": 20, \"SP\": 20.0, \"total\": 60.0}, \"3\": {\"item\": \"berry\", \"quantity\": 4, \"price\": 50, \"SP\": 45.0, \"total\": 180.0}, \"4\": {\"item\": \"grapes\", \"quantity\": 1, \"price\": 15, \"SP\": 14.549999999999999, \"total\": 14.549999999999999}, \"5\": {\"item\": \"rose\", \"quantity\": 5, \"price\": 60, \"SP\": 55.2, \"total\": 276.0}}'"
            ]
          },
          "metadata": {},
          "execution_count": 28
        }
      ]
    },
    {
      "cell_type": "code",
      "metadata": {
        "id": "6JmFvALhlVMI"
      },
      "source": [
        "\n",
        "d = json.loads(txt)"
      ],
      "execution_count": 30,
      "outputs": []
    },
    {
      "cell_type": "code",
      "metadata": {
        "colab": {
          "base_uri": "https://localhost:8080/"
        },
        "id": "3JDxvNROlmYa",
        "outputId": "f27e23cb-2c78-46b7-d37c-b0aec385200f"
      },
      "source": [
        "d"
      ],
      "execution_count": 32,
      "outputs": [
        {
          "output_type": "execute_result",
          "data": {
            "text/plain": [
              "{'1': {'SP': 30.0, 'item': 'apple', 'price': 30, 'quantity': 2, 'total': 60.0},\n",
              " '2': {'SP': 20.0,\n",
              "  'item': 'banana',\n",
              "  'price': 20,\n",
              "  'quantity': 3,\n",
              "  'total': 60.0},\n",
              " '3': {'SP': 45.0,\n",
              "  'item': 'berry',\n",
              "  'price': 50,\n",
              "  'quantity': 4,\n",
              "  'total': 180.0},\n",
              " '4': {'SP': 14.549999999999999,\n",
              "  'item': 'grapes',\n",
              "  'price': 15,\n",
              "  'quantity': 1,\n",
              "  'total': 14.549999999999999},\n",
              " '5': {'SP': 55.2, 'item': 'rose', 'price': 60, 'quantity': 5, 'total': 276.0}}"
            ]
          },
          "metadata": {},
          "execution_count": 32
        }
      ]
    },
    {
      "cell_type": "code",
      "metadata": {
        "id": "X3ppvb_4lxvq"
      },
      "source": [
        "import time"
      ],
      "execution_count": 34,
      "outputs": []
    },
    {
      "cell_type": "code",
      "metadata": {
        "colab": {
          "base_uri": "https://localhost:8080/",
          "height": 35
        },
        "id": "CcFL3yDil31d",
        "outputId": "5748a038-8ea6-415a-c2c8-2bca1c5fd7f5"
      },
      "source": [
        "time.ctime()"
      ],
      "execution_count": 35,
      "outputs": [
        {
          "output_type": "execute_result",
          "data": {
            "application/vnd.google.colaboratory.intrinsic+json": {
              "type": "string"
            },
            "text/plain": [
              "'Sun Sep  5 06:14:08 2021'"
            ]
          },
          "metadata": {},
          "execution_count": 35
        }
      ]
    }
  ]
}